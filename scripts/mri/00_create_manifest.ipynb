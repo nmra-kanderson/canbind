{
 "cells": [
  {
   "cell_type": "code",
   "execution_count": 100,
   "metadata": {},
   "outputs": [],
   "source": [
    "import os\n",
    "import re\n",
    "import tqdm\n",
    "import numpy as np\n",
    "import pandas as pd\n",
    "import seaborn as sns\n",
    "import nibabel as nb\n",
    "import matplotlib.pyplot as plt\n",
    "from pathlib import Path"
   ]
  },
  {
   "cell_type": "code",
   "execution_count": 54,
   "metadata": {},
   "outputs": [],
   "source": [
    "def parse_session_hcp(file_path, scan_types):\n",
    "    \"\"\"\n",
    "    Finds the BOLD ID associated with each named file from\n",
    "    the session_hcp.txt file of a given session\n",
    "\n",
    "    Parameters\n",
    "    ----------\n",
    "    file_path: str\n",
    "        Path to the sessions_hcp.txt file\n",
    "        Example:\n",
    "            ~/fsx-mount/embarc-20201122-LHzJPHi4/sessions/CU0011_baseline/session_hcp.txt\n",
    "    scan_types: list[str]\n",
    "        The names of scans to process. The names must exactly match\n",
    "        what appears in the session_hcp.txt file. Not all scan types\n",
    "        need to appear in all of the session_hcp.txt files from every\n",
    "        session, but \"ert\" won't pick up \"bold ert\", if \"bold ert\"\n",
    "        is what appears in session_hcp.txt. Within a given study,\n",
    "        some sessions will assign different IDs to the same scan types\n",
    "        depending on scan availability within a session. QuNex doesn't\n",
    "        like gaps in BOLD ID numbers within a session\n",
    "        Example: ['bold ert', 'bold rest run-1', 'bold rest run-2',\n",
    "            'bold reward' ]\n",
    "\n",
    "    Returns\n",
    "    -------\n",
    "    mapping: dict:\n",
    "        The names and their associated BOLD IDs\n",
    "        Example: {\n",
    "            'bold ert': '1', 'bold rest run-1': '2',\n",
    "            'bold rest run-2': '3', 'bold reward': '4'\n",
    "        }\n",
    "    \"\"\"\n",
    "\n",
    "    # Build the mapping from rest/task to the bold scan, e.g., bold1, bold2, etc.\n",
    "    with open(file_path, 'r') as f:\n",
    "        info = f.read()\n",
    "    mapping = dict()\n",
    "\n",
    "    # The regex | means \"or\", i.e., allowed to match any of the scan_types\n",
    "    scan_type_regex = '|'.join(scan_types)\n",
    "\n",
    "    # Find all of the matches\n",
    "    matches = re.findall(f'bold([0-9]+).+:({scan_type_regex})\\n', info)\n",
    "    for bold_id, bold_name in matches:\n",
    "        mapping[bold_name] = bold_id\n",
    "\n",
    "    # Try the first known HCP format if no matches found after standard mapping\n",
    "    if len(mapping) == 0:\n",
    "        matches = re.findall(f'bold([0-9]+):.+\\s:\\s({scan_type_regex}).+\\n', info)\n",
    "        for bold_id, bold_name in matches:\n",
    "            mapping[bold_name] = bold_id\n",
    "    return mapping"
   ]
  },
  {
   "cell_type": "code",
   "execution_count": 2,
   "metadata": {},
   "outputs": [],
   "source": [
    "# set up\n",
    "repo_dir = '/home/ubuntu/Projects/canbind'"
   ]
  },
  {
   "cell_type": "code",
   "execution_count": 3,
   "metadata": {},
   "outputs": [
    {
     "data": {
      "text/plain": [
       "(1077, 5)"
      ]
     },
     "execution_count": 3,
     "metadata": {},
     "output_type": "execute_result"
    }
   ],
   "source": [
    "# read visual QC dataframe\n",
    "manifest_df = pd.read_csv(Path(repo_dir, 'reference/manifest_df_base.csv'))\n",
    "manifest_df.shape"
   ]
  },
  {
   "cell_type": "code",
   "execution_count": 13,
   "metadata": {},
   "outputs": [
    {
     "name": "stderr",
     "output_type": "stream",
     "text": [
      "/home/ubuntu/anaconda3/lib/python3.9/site-packages/openpyxl/worksheet/_reader.py:312: UserWarning: Unknown extension is not supported and will be removed\n",
      "  warn(msg)\n",
      "/home/ubuntu/anaconda3/lib/python3.9/site-packages/openpyxl/worksheet/_reader.py:312: UserWarning: Unknown extension is not supported and will be removed\n",
      "  warn(msg)\n",
      "/home/ubuntu/anaconda3/lib/python3.9/site-packages/openpyxl/worksheet/_reader.py:312: UserWarning: Unknown extension is not supported and will be removed\n",
      "  warn(msg)\n"
     ]
    }
   ],
   "source": [
    "# Read CANBIND provided fMRI QC information\n",
    "anhed_in_qc  = pd.read_excel('/home/ubuntu/canbind_upload/fMRI-Anhed/Documentation/QualityControl_Documentation_Anhedonia_Baseline_final.xlsx')\n",
    "faces_qc     = pd.read_excel('/home/ubuntu/canbind_upload/fMRI-Faces/Documentation/QualityControl_Documentation_Faces_Baseline.xlsx')\n",
    "gonogo_in_qc    = pd.read_excel('/home/ubuntu/canbind_upload/fMRI-GoNoGo/Documentation/QualityControl_Documentation_fMRI-GNG_Baseline_final.xlsx')\n"
   ]
  },
  {
   "cell_type": "markdown",
   "metadata": {},
   "source": [
    "### Format Anhedonia QC DataFrame"
   ]
  },
  {
   "cell_type": "code",
   "execution_count": 5,
   "metadata": {},
   "outputs": [
    {
     "data": {
      "text/plain": [
       "NoData          146\n",
       "Useable         132\n",
       "Questionable     32\n",
       "Unusable         13\n",
       "Name: DataUse, dtype: int64"
      ]
     },
     "execution_count": 5,
     "metadata": {},
     "output_type": "execute_result"
    }
   ],
   "source": [
    "# Format Anhedonia dataframe\n",
    "anhed_qc         = anhed_in_qc.loc[:,~anhed_in_qc.columns.str.contains('Unnamed')]\n",
    "anhed_qc.columns = ['subject_ID_long', 'subject_ID_short', 'Group', 'ImagingQC', 'ImagingComments']\n",
    "anhed_qc         = anhed_qc.loc[anhed_qc.iloc[:,0].str.contains('_')]\n",
    "cond_dict = {'Do not have this data': 'NoData',\n",
    "                'Yes, useable ': 'Useable',\n",
    "                'Yes, useable': 'Useable',\n",
    "                'Useable ': 'Useable',\n",
    "                'Yes, useable (Note: Data Quality Questionable)': 'Questionable',\n",
    "                'No Data': 'NoData',\n",
    "                'Unusable': 'Unusable',\n",
    "                'No data': 'NoData'}\n",
    "anhed_qc['DataUse'] = anhed_qc['ImagingQC'].map(cond_dict)\n",
    "anhed_qc['DataUse'].value_counts()"
   ]
  },
  {
   "cell_type": "markdown",
   "metadata": {},
   "source": [
    "### Format Faces (ERT) QC DataFrame"
   ]
  },
  {
   "cell_type": "code",
   "execution_count": 6,
   "metadata": {},
   "outputs": [],
   "source": [
    "faces_qc = faces_qc.iloc[np.where(faces_qc.iloc[:,0].str.contains('_'))]\n",
    "faces_qc = faces_qc.loc[faces_qc.iloc[:,0].notna()]"
   ]
  },
  {
   "cell_type": "code",
   "execution_count": 7,
   "metadata": {},
   "outputs": [],
   "source": [
    "%%capture\n",
    "# run 1\n",
    "faces_run01_qc = faces_qc[['subject_ID_long', 'subject_ID_short', 'Group', \n",
    "                            'Imaging Data: Faces - Run 1', 'Data Quality comments - specifics',  \n",
    "                            'Behavioural Data: Faces - Run 1', 'Data Quality comments - specifics.1']]\n",
    "faces_run01_qc.columns = ['subject_ID_long', 'subject_ID_short', 'Group', 'ImagingQC', 'ImagingComments', 'BehaviorQC', 'BehaviorComments']\n",
    "faces_run01_qc['run']  = 1\n"
   ]
  },
  {
   "cell_type": "code",
   "execution_count": 8,
   "metadata": {},
   "outputs": [],
   "source": [
    "%%capture\n",
    "# run 2\n",
    "faces_run02_qc = faces_qc[['subject_ID_long', 'subject_ID_short', 'Group', \n",
    "                            'Imaging Data: Faces - Run 2', 'Data Quality comments - specifics ',  \n",
    "                            'Behavioural Data: Faces - Run 2', 'Data Quality comments - specifics.2']]\n",
    "faces_run02_qc.columns = ['subject_ID_long', 'subject_ID_short', 'Group', 'ImagingQC', 'ImagingComments', 'BehaviorQC', 'BehaviorComments']\n",
    "faces_run02_qc['run']  = 2"
   ]
  },
  {
   "cell_type": "code",
   "execution_count": 9,
   "metadata": {},
   "outputs": [],
   "source": [
    "faces_long_qc = pd.concat([faces_run01_qc, faces_run02_qc]).reset_index(drop=True)\n",
    "faces_long_qc = faces_long_qc.iloc[np.where(faces_long_qc.iloc[:,0].str.contains('_'))]\n",
    "faces_long_qc = faces_long_qc.loc[faces_long_qc.iloc[:,0].notna()]\n",
    "cond_dict = {'Do not have this data': 'NoData',\n",
    "    'Yes, useable ': 'Useable',\n",
    "    'Yes, useable': 'Useable',\n",
    "    'Useable ': 'Useable',\n",
    "    'Yes (Note: Data Quality Questionable)': 'Questionable',\n",
    "    'Yes, useable (Note: Data Quality Questionable)': 'Questionable',\n",
    "    'Yes, useable (Note: Data Quality)': 'Questionable',\n",
    "    'No Data': 'NoData',\n",
    "    'cannot be released due to incorrect consent form': 'NoData',\n",
    "    'Unusable': 'Unusable',\n",
    "    'Unusable ': 'Unusable',\n",
    "    'No data': 'NoData'\n",
    "}\n",
    "faces_long_qc['DataUse'] = faces_long_qc['ImagingQC'].map(cond_dict)\n"
   ]
  },
  {
   "cell_type": "code",
   "execution_count": 10,
   "metadata": {},
   "outputs": [
    {
     "data": {
      "text/plain": [
       "NoData          406\n",
       "Useable         198\n",
       "Unusable         27\n",
       "Questionable     15\n",
       "Name: DataUse, dtype: int64"
      ]
     },
     "execution_count": 10,
     "metadata": {},
     "output_type": "execute_result"
    }
   ],
   "source": [
    "faces_long_qc['DataUse'].value_counts()"
   ]
  },
  {
   "cell_type": "markdown",
   "metadata": {},
   "source": [
    "### Format GO/NoGo QC DataFrame"
   ]
  },
  {
   "cell_type": "code",
   "execution_count": 14,
   "metadata": {},
   "outputs": [
    {
     "name": "stderr",
     "output_type": "stream",
     "text": [
      "/tmp/ipykernel_6501/1684776695.py:13: SettingWithCopyWarning: \n",
      "A value is trying to be set on a copy of a slice from a DataFrame.\n",
      "Try using .loc[row_indexer,col_indexer] = value instead\n",
      "\n",
      "See the caveats in the documentation: https://pandas.pydata.org/pandas-docs/stable/user_guide/indexing.html#returning-a-view-versus-a-copy\n",
      "  gonogo_qc['DataUse'] = gonogo_qc['ImagingQC'].map(cond_dict)\n"
     ]
    },
    {
     "data": {
      "text/plain": [
       "NoData          146\n",
       "Useable         133\n",
       "Unusable         28\n",
       "Questionable     16\n",
       "Name: DataUse, dtype: int64"
      ]
     },
     "execution_count": 14,
     "metadata": {},
     "output_type": "execute_result"
    }
   ],
   "source": [
    "gonogo_in_qc.columns = ['subject_ID_long', 'subject_ID_short', 'Group', 'ImagingQC', 'ImagingComments']\n",
    "gonogo_qc = gonogo_in_qc.loc[gonogo_in_qc.iloc[:,0].str.contains('_')]\n",
    "\n",
    "cond_dict = {'Do not have this data': 'NoData',\n",
    "    'Yes, useable ': 'Useable',\n",
    "    'Yes, useable': 'Useable',\n",
    "    'Useable ': 'Useable',\n",
    "    'Yes, useable (Note: Data Quality)': 'Questionable',\n",
    "    'No Data': 'NoData',\n",
    "    'Unusable': 'Unusable',\n",
    "    'No data': 'NoData'\n",
    "}\n",
    "gonogo_qc['DataUse'] = gonogo_qc['ImagingQC'].map(cond_dict)\n",
    "gonogo_qc['DataUse'].value_counts()"
   ]
  },
  {
   "cell_type": "code",
   "execution_count": null,
   "metadata": {},
   "outputs": [],
   "source": []
  },
  {
   "cell_type": "markdown",
   "metadata": {},
   "source": [
    "## QuNex Processed Data"
   ]
  },
  {
   "cell_type": "code",
   "execution_count": 69,
   "metadata": {},
   "outputs": [],
   "source": [
    "study_dir = '/home/ubuntu/canbind-fsx/research/imaging/datasets/CANBIND/processed_data/pf-pipelines/qunex-nbridge/studies'\n",
    "session_dirs       = list(Path(study_dir, 'CANBIND-20220818-mCcU5pi4/sessions').glob('*_01'))\n",
    "#rerun_session_dirs = list(Path(study_dir, 'CANBIND-20220830-RBLE2Vqb/sessions').glob('*_01'))"
   ]
  },
  {
   "cell_type": "code",
   "execution_count": 70,
   "metadata": {},
   "outputs": [],
   "source": [
    "session_dict = {x.stem:x for x in session_dirs}\n",
    "#for x in rerun_session_dirs:\n",
    "#    session_dict[x.stem] = x\n",
    "session_list = list(session_dict.values())"
   ]
  },
  {
   "cell_type": "code",
   "execution_count": 112,
   "metadata": {},
   "outputs": [
    {
     "name": "stderr",
     "output_type": "stream",
     "text": [
      " 32%|███▏      | 94/298 [11:06<24:06,  7.09s/it]\n"
     ]
    },
    {
     "ename": "FileNotFoundError",
     "evalue": "No such file or no access: '/home/ubuntu/canbind-fsx/research/imaging/datasets/CANBIND/processed_data/pf-pipelines/qunex-nbridge/studies/CANBIND-20220818-mCcU5pi4/sessions/QNS0037_01/images/functional/bold1.nii.gz'",
     "output_type": "error",
     "traceback": [
      "\u001b[0;31m---------------------------------------------------------------------------\u001b[0m",
      "\u001b[0;31mFileNotFoundError\u001b[0m                         Traceback (most recent call last)",
      "File \u001b[0;32m~/anaconda3/lib/python3.9/site-packages/nibabel/loadsave.py:90\u001b[0m, in \u001b[0;36mload\u001b[0;34m(filename, **kwargs)\u001b[0m\n\u001b[1;32m     89\u001b[0m \u001b[39mtry\u001b[39;00m:\n\u001b[0;32m---> 90\u001b[0m     stat_result \u001b[39m=\u001b[39m os\u001b[39m.\u001b[39;49mstat(filename)\n\u001b[1;32m     91\u001b[0m \u001b[39mexcept\u001b[39;00m \u001b[39mOSError\u001b[39;00m:\n",
      "\u001b[0;31mFileNotFoundError\u001b[0m: [Errno 2] No such file or directory: '/home/ubuntu/canbind-fsx/research/imaging/datasets/CANBIND/processed_data/pf-pipelines/qunex-nbridge/studies/CANBIND-20220818-mCcU5pi4/sessions/QNS0037_01/images/functional/bold1.nii.gz'",
      "\nDuring handling of the above exception, another exception occurred:\n",
      "\u001b[0;31mFileNotFoundError\u001b[0m                         Traceback (most recent call last)",
      "\u001b[1;32m/home/ubuntu/Projects/canbind/scripts/mri/00_create_manifest.ipynb Cell 20\u001b[0m in \u001b[0;36m<cell line: 14>\u001b[0;34m()\u001b[0m\n\u001b[1;32m     <a href='vscode-notebook-cell://ssh-remote%2B10.140.74.40/home/ubuntu/Projects/canbind/scripts/mri/00_create_manifest.ipynb#X24sdnNjb2RlLXJlbW90ZQ%3D%3D?line=26'>27</a>\u001b[0m \u001b[39mfor\u001b[39;00m scan_num \u001b[39min\u001b[39;00m scan_dict\u001b[39m.\u001b[39mvalues():\n\u001b[1;32m     <a href='vscode-notebook-cell://ssh-remote%2B10.140.74.40/home/ubuntu/Projects/canbind/scripts/mri/00_create_manifest.ipynb#X24sdnNjb2RlLXJlbW90ZQ%3D%3D?line=27'>28</a>\u001b[0m     nii_file \u001b[39m=\u001b[39m Path(session_dir, \u001b[39mf\u001b[39m\u001b[39m'\u001b[39m\u001b[39mimages/functional/bold\u001b[39m\u001b[39m{\u001b[39;00mscan_num\u001b[39m}\u001b[39;00m\u001b[39m.nii.gz\u001b[39m\u001b[39m'\u001b[39m)\n\u001b[0;32m---> <a href='vscode-notebook-cell://ssh-remote%2B10.140.74.40/home/ubuntu/Projects/canbind/scripts/mri/00_create_manifest.ipynb#X24sdnNjb2RlLXJlbW90ZQ%3D%3D?line=28'>29</a>\u001b[0m     nii_obj  \u001b[39m=\u001b[39m nb\u001b[39m.\u001b[39;49mload(nii_file)\n\u001b[1;32m     <a href='vscode-notebook-cell://ssh-remote%2B10.140.74.40/home/ubuntu/Projects/canbind/scripts/mri/00_create_manifest.ipynb#X24sdnNjb2RlLXJlbW90ZQ%3D%3D?line=29'>30</a>\u001b[0m     num_trs  \u001b[39m=\u001b[39m nii_obj\u001b[39m.\u001b[39mshape[\u001b[39m-\u001b[39m\u001b[39m1\u001b[39m]\n\u001b[1;32m     <a href='vscode-notebook-cell://ssh-remote%2B10.140.74.40/home/ubuntu/Projects/canbind/scripts/mri/00_create_manifest.ipynb#X24sdnNjb2RlLXJlbW90ZQ%3D%3D?line=30'>31</a>\u001b[0m     scanlen_dict[scan_num] \u001b[39m=\u001b[39m num_trs\n",
      "File \u001b[0;32m~/anaconda3/lib/python3.9/site-packages/nibabel/loadsave.py:92\u001b[0m, in \u001b[0;36mload\u001b[0;34m(filename, **kwargs)\u001b[0m\n\u001b[1;32m     90\u001b[0m     stat_result \u001b[39m=\u001b[39m os\u001b[39m.\u001b[39mstat(filename)\n\u001b[1;32m     91\u001b[0m \u001b[39mexcept\u001b[39;00m \u001b[39mOSError\u001b[39;00m:\n\u001b[0;32m---> 92\u001b[0m     \u001b[39mraise\u001b[39;00m \u001b[39mFileNotFoundError\u001b[39;00m(\u001b[39mf\u001b[39m\u001b[39m\"\u001b[39m\u001b[39mNo such file or no access: \u001b[39m\u001b[39m'\u001b[39m\u001b[39m{\u001b[39;00mfilename\u001b[39m}\u001b[39;00m\u001b[39m'\u001b[39m\u001b[39m\"\u001b[39m)\n\u001b[1;32m     93\u001b[0m \u001b[39mif\u001b[39;00m stat_result\u001b[39m.\u001b[39mst_size \u001b[39m<\u001b[39m\u001b[39m=\u001b[39m \u001b[39m0\u001b[39m:\n\u001b[1;32m     94\u001b[0m     \u001b[39mraise\u001b[39;00m ImageFileError(\u001b[39mf\u001b[39m\u001b[39m\"\u001b[39m\u001b[39mEmpty file: \u001b[39m\u001b[39m'\u001b[39m\u001b[39m{\u001b[39;00mfilename\u001b[39m}\u001b[39;00m\u001b[39m'\u001b[39m\u001b[39m\"\u001b[39m)\n",
      "\u001b[0;31mFileNotFoundError\u001b[0m: No such file or no access: '/home/ubuntu/canbind-fsx/research/imaging/datasets/CANBIND/processed_data/pf-pipelines/qunex-nbridge/studies/CANBIND-20220818-mCcU5pi4/sessions/QNS0037_01/images/functional/bold1.nii.gz'"
     ]
    }
   ],
   "source": [
    "scan_types = [\n",
    "    'bold anhedonia run-01',\n",
    "    'bold anhedonia run-02',\n",
    "    'bold gonogo run-01',\n",
    "    'bold gonogo run-02',\n",
    "    'bold faces run-01',\n",
    "    'bold faces run-02',\n",
    "    'bold faces run-03',\n",
    "    'bold rest run-01',\n",
    "    'bold rest run-02'\n",
    "]\n",
    "\n",
    "info_list = []\n",
    "for session_dir in tqdm.tqdm(session_list):\n",
    "    session_file = Path(session_dir, 'session_hcp.txt')\n",
    "    if not session_file.exists():\n",
    "        continue\n",
    "    # read scan to scan-name mapping\n",
    "    scan_dict  = parse_session_hcp(session_file, scan_types)\n",
    "    # create qunex scan inventory/df\n",
    "    session_df = pd.DataFrame({'scan_info':scan_dict.keys(), 'scan_num': scan_dict.values()})\n",
    "    session_df.insert(0, 'session_id', session_dir.stem)\n",
    "    session_df['session_dir'] = session_dir\n",
    "\n",
    "    # get properties of functional scans\n",
    "    scanlen_dict = {}\n",
    "    for scan_num in scan_dict.values():\n",
    "        nii_file = Path(session_dir, f'images/functional/bold{scan_num}.nii.gz')\n",
    "        nii_obj  = nb.load(nii_file)\n",
    "        num_trs  = nii_obj.shape[-1]\n",
    "        scanlen_dict[scan_num] = num_trs\n",
    "    session_df['scan_len'] = session_df['scan_num'].map(scanlen_dict)\n",
    "    info_list.append(session_df)\n",
    "\n",
    "\n"
   ]
  },
  {
   "cell_type": "code",
   "execution_count": 111,
   "metadata": {},
   "outputs": [
    {
     "data": {
      "text/html": [
       "<div>\n",
       "<style scoped>\n",
       "    .dataframe tbody tr th:only-of-type {\n",
       "        vertical-align: middle;\n",
       "    }\n",
       "\n",
       "    .dataframe tbody tr th {\n",
       "        vertical-align: top;\n",
       "    }\n",
       "\n",
       "    .dataframe thead th {\n",
       "        text-align: right;\n",
       "    }\n",
       "</style>\n",
       "<table border=\"1\" class=\"dataframe\">\n",
       "  <thead>\n",
       "    <tr style=\"text-align: right;\">\n",
       "      <th></th>\n",
       "      <th>session_id</th>\n",
       "      <th>scan_info</th>\n",
       "      <th>scan_num</th>\n",
       "      <th>session_dir</th>\n",
       "      <th>scan_len</th>\n",
       "    </tr>\n",
       "  </thead>\n",
       "  <tbody>\n",
       "    <tr>\n",
       "      <th>0</th>\n",
       "      <td>QNS0030_01</td>\n",
       "      <td>bold anhedonia run-01</td>\n",
       "      <td>1</td>\n",
       "      <td>/home/ubuntu/canbind-fsx/research/imaging/data...</td>\n",
       "      <td>350</td>\n",
       "    </tr>\n",
       "    <tr>\n",
       "      <th>1</th>\n",
       "      <td>QNS0030_01</td>\n",
       "      <td>bold gonogo run-01</td>\n",
       "      <td>2</td>\n",
       "      <td>/home/ubuntu/canbind-fsx/research/imaging/data...</td>\n",
       "      <td>300</td>\n",
       "    </tr>\n",
       "    <tr>\n",
       "      <th>2</th>\n",
       "      <td>QNS0030_01</td>\n",
       "      <td>bold rest run-01</td>\n",
       "      <td>3</td>\n",
       "      <td>/home/ubuntu/canbind-fsx/research/imaging/data...</td>\n",
       "      <td>300</td>\n",
       "    </tr>\n",
       "    <tr>\n",
       "      <th>0</th>\n",
       "      <td>UBC0034_01</td>\n",
       "      <td>bold anhedonia run-01</td>\n",
       "      <td>1</td>\n",
       "      <td>/home/ubuntu/canbind-fsx/research/imaging/data...</td>\n",
       "      <td>350</td>\n",
       "    </tr>\n",
       "    <tr>\n",
       "      <th>1</th>\n",
       "      <td>UBC0034_01</td>\n",
       "      <td>bold gonogo run-01</td>\n",
       "      <td>2</td>\n",
       "      <td>/home/ubuntu/canbind-fsx/research/imaging/data...</td>\n",
       "      <td>300</td>\n",
       "    </tr>\n",
       "    <tr>\n",
       "      <th>2</th>\n",
       "      <td>UBC0034_01</td>\n",
       "      <td>bold rest run-01</td>\n",
       "      <td>3</td>\n",
       "      <td>/home/ubuntu/canbind-fsx/research/imaging/data...</td>\n",
       "      <td>300</td>\n",
       "    </tr>\n",
       "    <tr>\n",
       "      <th>0</th>\n",
       "      <td>MCU0029_01</td>\n",
       "      <td>bold anhedonia run-01</td>\n",
       "      <td>1</td>\n",
       "      <td>/home/ubuntu/canbind-fsx/research/imaging/data...</td>\n",
       "      <td>350</td>\n",
       "    </tr>\n",
       "    <tr>\n",
       "      <th>1</th>\n",
       "      <td>MCU0029_01</td>\n",
       "      <td>bold gonogo run-01</td>\n",
       "      <td>2</td>\n",
       "      <td>/home/ubuntu/canbind-fsx/research/imaging/data...</td>\n",
       "      <td>300</td>\n",
       "    </tr>\n",
       "    <tr>\n",
       "      <th>2</th>\n",
       "      <td>MCU0029_01</td>\n",
       "      <td>bold rest run-01</td>\n",
       "      <td>3</td>\n",
       "      <td>/home/ubuntu/canbind-fsx/research/imaging/data...</td>\n",
       "      <td>300</td>\n",
       "    </tr>\n",
       "  </tbody>\n",
       "</table>\n",
       "</div>"
      ],
      "text/plain": [
       "   session_id              scan_info scan_num  \\\n",
       "0  QNS0030_01  bold anhedonia run-01        1   \n",
       "1  QNS0030_01     bold gonogo run-01        2   \n",
       "2  QNS0030_01       bold rest run-01        3   \n",
       "0  UBC0034_01  bold anhedonia run-01        1   \n",
       "1  UBC0034_01     bold gonogo run-01        2   \n",
       "2  UBC0034_01       bold rest run-01        3   \n",
       "0  MCU0029_01  bold anhedonia run-01        1   \n",
       "1  MCU0029_01     bold gonogo run-01        2   \n",
       "2  MCU0029_01       bold rest run-01        3   \n",
       "\n",
       "                                         session_dir  scan_len  \n",
       "0  /home/ubuntu/canbind-fsx/research/imaging/data...       350  \n",
       "1  /home/ubuntu/canbind-fsx/research/imaging/data...       300  \n",
       "2  /home/ubuntu/canbind-fsx/research/imaging/data...       300  \n",
       "0  /home/ubuntu/canbind-fsx/research/imaging/data...       350  \n",
       "1  /home/ubuntu/canbind-fsx/research/imaging/data...       300  \n",
       "2  /home/ubuntu/canbind-fsx/research/imaging/data...       300  \n",
       "0  /home/ubuntu/canbind-fsx/research/imaging/data...       350  \n",
       "1  /home/ubuntu/canbind-fsx/research/imaging/data...       300  \n",
       "2  /home/ubuntu/canbind-fsx/research/imaging/data...       300  "
      ]
     },
     "execution_count": 111,
     "metadata": {},
     "output_type": "execute_result"
    }
   ],
   "source": [
    "pd.concat(info_list)"
   ]
  },
  {
   "cell_type": "code",
   "execution_count": 108,
   "metadata": {},
   "outputs": [
    {
     "data": {
      "text/plain": [
       "(17, 5)"
      ]
     },
     "execution_count": 108,
     "metadata": {},
     "output_type": "execute_result"
    }
   ],
   "source": [
    "qc_df = pd.read_csv('/home/ubuntu/canbind-fsx/research/imaging/datasets/CANBIND/imaging-features/CANBIND/production/qc/study-CANBIND_bold_motion.csv.gz', compression='gzip')\n",
    "qc_df.shape\n"
   ]
  },
  {
   "cell_type": "code",
   "execution_count": null,
   "metadata": {},
   "outputs": [],
   "source": []
  }
 ],
 "metadata": {
  "kernelspec": {
   "display_name": "Python 3 (ipykernel)",
   "language": "python",
   "name": "python3"
  },
  "language_info": {
   "codemirror_mode": {
    "name": "ipython",
    "version": 3
   },
   "file_extension": ".py",
   "mimetype": "text/x-python",
   "name": "python",
   "nbconvert_exporter": "python",
   "pygments_lexer": "ipython3",
   "version": "3.9.12"
  },
  "orig_nbformat": 4
 },
 "nbformat": 4,
 "nbformat_minor": 2
}
